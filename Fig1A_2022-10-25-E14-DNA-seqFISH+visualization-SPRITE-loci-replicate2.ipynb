{
 "cells": [
  {
   "cell_type": "code",
   "execution_count": 12,
   "metadata": {},
   "outputs": [],
   "source": [
    "# Our numerical workhorses\n",
    "import numpy as np\n",
    "import pandas as pd\n",
    "import matplotlib.pyplot as plt\n",
    "import tifffile as tif\n",
    "import seaborn as sns\n",
    "from scipy.ndimage.filters import gaussian_laplace, gaussian_filter1d, gaussian_filter\n",
    "\n",
    "# This is to enable inline displays for the purposes of the tutorial\n",
    "%matplotlib inline\n",
    "\n",
    "# This enables SVG graphics inline\n",
    "%config InlineBackend.figure_formats = {'png', 'retina'}\n",
    "\n",
    "rc = {'lines.linewidth': 2, 'axes.labelsize': 18,  'axes.titlesize': 18, 'axes.facecolor': 'DFDFE5'}\n",
    "sns.set_context('notebook', rc=rc)\n",
    "sns.set_style('white')\n",
    "\n",
    "# Suppress future warnings\n",
    "import warnings\n",
    "warnings.simplefilter(action='ignore', category=FutureWarning)"
   ]
  },
  {
   "cell_type": "code",
   "execution_count": 60,
   "metadata": {},
   "outputs": [],
   "source": [
    "def image_coloredpoints2(image,x,y,color,z):\n",
    "    # image: np.zeros([2048,2048,3],dtype=np.uint8)\n",
    "    # x,y: rounded values\n",
    "    x = int(x)\n",
    "    y = int(y)\n",
    "    z = int(z)\n",
    "    image[z,x-1,y-1] = color\n",
    "    image[z,x-1,y] = color\n",
    "    image[z,x-1,y+1] = color\n",
    "    image[z,x,y-1] = color\n",
    "    image[z,x,y] = color\n",
    "    image[z,x,y+1] = color\n",
    "    image[z,x+1,y-1] = color\n",
    "    image[z,x+1,y] = color\n",
    "    image[z,x+1,y+1] = color\n",
    "    \n",
    "    return image"
   ]
  },
  {
   "cell_type": "code",
   "execution_count": 85,
   "metadata": {},
   "outputs": [
    {
     "name": "stdout",
     "output_type": "stream",
     "text": [
      "21\n"
     ]
    }
   ],
   "source": [
    "# selected loci\n",
    "loci_names = ['Ttn','chr2-#15','Fmnl2','chr4-#67','Calb1','Id3','Nanog','Grid2','Gapdh','Dnmt3l','Tcf3','Grik2','Pou5f1',\n",
    "'Ehmt2','Nox3',             \n",
    "'Nrxn2',\n",
    "'Cnih2',\n",
    "'Zfand5',\n",
    "'Aldoc',\n",
    "'Foxj1',\n",
    "'Efemp1']\n",
    "\n",
    "print(len(loci_names))\n",
    "\n",
    "# specific FOV ID\n",
    "fov_id = 3"
   ]
  },
  {
   "cell_type": "code",
   "execution_count": 86,
   "metadata": {},
   "outputs": [
    {
     "name": "stdout",
     "output_type": "stream",
     "text": [
      "1731\n"
     ]
    },
    {
     "data": {
      "text/html": [
       "<div>\n",
       "<style scoped>\n",
       "    .dataframe tbody tr th:only-of-type {\n",
       "        vertical-align: middle;\n",
       "    }\n",
       "\n",
       "    .dataframe tbody tr th {\n",
       "        vertical-align: top;\n",
       "    }\n",
       "\n",
       "    .dataframe thead th {\n",
       "        text-align: right;\n",
       "    }\n",
       "</style>\n",
       "<table border=\"1\" class=\"dataframe\">\n",
       "  <thead>\n",
       "    <tr style=\"text-align: right;\">\n",
       "      <th></th>\n",
       "      <th>Unnamed: 0</th>\n",
       "      <th>fov</th>\n",
       "      <th>cellID</th>\n",
       "      <th>channel</th>\n",
       "      <th>geneID</th>\n",
       "      <th>x</th>\n",
       "      <th>y</th>\n",
       "      <th>z</th>\n",
       "      <th>seeds</th>\n",
       "      <th>intensity</th>\n",
       "    </tr>\n",
       "  </thead>\n",
       "  <tbody>\n",
       "    <tr>\n",
       "      <th>0</th>\n",
       "      <td>259686</td>\n",
       "      <td>3</td>\n",
       "      <td>1</td>\n",
       "      <td>1</td>\n",
       "      <td>chr2-#15</td>\n",
       "      <td>1353.393</td>\n",
       "      <td>621.990</td>\n",
       "      <td>8.633</td>\n",
       "      <td>4</td>\n",
       "      <td>1353</td>\n",
       "    </tr>\n",
       "    <tr>\n",
       "      <th>1</th>\n",
       "      <td>259687</td>\n",
       "      <td>3</td>\n",
       "      <td>1</td>\n",
       "      <td>1</td>\n",
       "      <td>chr2-#15</td>\n",
       "      <td>1249.681</td>\n",
       "      <td>621.867</td>\n",
       "      <td>7.047</td>\n",
       "      <td>4</td>\n",
       "      <td>1250</td>\n",
       "    </tr>\n",
       "    <tr>\n",
       "      <th>2</th>\n",
       "      <td>260097</td>\n",
       "      <td>3</td>\n",
       "      <td>1</td>\n",
       "      <td>1</td>\n",
       "      <td>chr4-#67</td>\n",
       "      <td>1312.103</td>\n",
       "      <td>641.879</td>\n",
       "      <td>10.122</td>\n",
       "      <td>5</td>\n",
       "      <td>1312</td>\n",
       "    </tr>\n",
       "    <tr>\n",
       "      <th>3</th>\n",
       "      <td>261829</td>\n",
       "      <td>3</td>\n",
       "      <td>2</td>\n",
       "      <td>1</td>\n",
       "      <td>chr2-#15</td>\n",
       "      <td>1297.122</td>\n",
       "      <td>705.605</td>\n",
       "      <td>9.619</td>\n",
       "      <td>5</td>\n",
       "      <td>1297</td>\n",
       "    </tr>\n",
       "    <tr>\n",
       "      <th>4</th>\n",
       "      <td>261830</td>\n",
       "      <td>3</td>\n",
       "      <td>2</td>\n",
       "      <td>1</td>\n",
       "      <td>chr2-#15</td>\n",
       "      <td>1310.141</td>\n",
       "      <td>790.204</td>\n",
       "      <td>8.694</td>\n",
       "      <td>4</td>\n",
       "      <td>1310</td>\n",
       "    </tr>\n",
       "  </tbody>\n",
       "</table>\n",
       "</div>"
      ],
      "text/plain": [
       "   Unnamed: 0  fov  cellID  channel    geneID         x        y       z  \\\n",
       "0      259686    3       1        1  chr2-#15  1353.393  621.990   8.633   \n",
       "1      259687    3       1        1  chr2-#15  1249.681  621.867   7.047   \n",
       "2      260097    3       1        1  chr4-#67  1312.103  641.879  10.122   \n",
       "3      261829    3       2        1  chr2-#15  1297.122  705.605   9.619   \n",
       "4      261830    3       2        1  chr2-#15  1310.141  790.204   8.694   \n",
       "\n",
       "   seeds  intensity  \n",
       "0      4       1353  \n",
       "1      4       1250  \n",
       "2      5       1312  \n",
       "3      5       1297  \n",
       "4      4       1310  "
      ]
     },
     "execution_count": 86,
     "metadata": {},
     "output_type": "execute_result"
    }
   ],
   "source": [
    "# main DNA seqFISH+ file found in Zenodo\n",
    "file_path = 'E:/Yodai/DNAFISH+/Zenodo/DNAseqFISH+/'\n",
    "\n",
    "\n",
    "df = pd.read_csv(file_path+'DNAseqFISH+1Mbloci-E14-replicate2.csv')\n",
    "df = df[(df['fov']==fov_id)&((df['seeds']==4)|(df['seeds']==5))&(df['geneID'].isin(loci_names))].reset_index(drop=True)\n",
    "\n",
    "print(len(df))\n",
    "\n",
    "df.head()"
   ]
  },
  {
   "cell_type": "markdown",
   "metadata": {},
   "source": [
    "### creat RGB images with pseudo-dots of selected loci based on DNA seqFISH+ voxel location downloaded from Zenodo\n",
    "\n",
    "each tif file per each locus\n",
    "\n",
    "manually convert to 16-bit images by ImageJ (switch to 8 bit then 16 bit)\n",
    "\n",
    "then merge with 16-bit IF image below"
   ]
  },
  {
   "cell_type": "code",
   "execution_count": 87,
   "metadata": {},
   "outputs": [],
   "source": [
    "#fig,ax = plt.subplots(1,1,figsize=(10,10))\n",
    "\n",
    "# plot whole z sections\n",
    "z_min = 1\n",
    "z_max = 25\n",
    "\n",
    "for j in range(18,len(loci_names)):\n",
    "    \n",
    "    df_fp = df[df['geneID']==loci_names[j]].reset_index(drop=True)\n",
    "\n",
    "    # make 8 bit blank images\n",
    "    image_fp1 = np.zeros([25,2048,2048,3],dtype=np.uint8) # blank image with actual image size\n",
    "\n",
    "    # raw dots on the entire blank image based on the rounded DNA seqFISH+ spot location\n",
    "    for i in range(len(df_fp)):\n",
    "        if np.round(df_fp['z'][i]) >= z_min and np.round(df_fp['z'][i]) <= z_max:\n",
    "            image_fp1 = image_coloredpoints2(image_fp1,np.round(df_fp['y'][i])-1,\n",
    "                                           np.round(df_fp['x'][i])-1,[255, 255, 255],np.round(df_fp['z'][i])-1)\n",
    "\n",
    "    # gaussian blur of the dots with defined sigma\n",
    "    image_gf1 = gaussian_filter(image_fp1,sigma=1)\n",
    "\n",
    "    # just for visualization\n",
    "    #ax.imshow(image_gf1)\n",
    "\n",
    "    tif.imwrite('output_Prashant/locus_'+loci_names[j]+'_fov'+str(fov_id)+'-replicate2.tif',image_gf1, compression='DEFLATE')"
   ]
  },
  {
   "cell_type": "markdown",
   "metadata": {},
   "source": [
    "### create SF3A66 immunofluorescence image from single-cell csv files downloaded from Zenodo"
   ]
  },
  {
   "cell_type": "code",
   "execution_count": 58,
   "metadata": {},
   "outputs": [],
   "source": [
    "if_path = 'F:/Yodai/DNA+/2019-08-03-E14-DNA-seqFISH+rep3-1-plate2/IF-binned1x1x1-E14-replicate2/IF-binned1x1x1-E14-replicate2-Pos'+str(fov_id)+'/'"
   ]
  },
  {
   "cell_type": "code",
   "execution_count": 59,
   "metadata": {},
   "outputs": [],
   "source": [
    "a = np.zeros([1,25,2048,2048],dtype=np.uint16) # blank image with actual image size\n",
    "\n",
    "for c in range(51): # number of cell per FOV (manually added for now)\n",
    "    df_if = pd.read_csv(if_path+'outputData-ImmunoFluorescence-Ch2-Pos'+str(fov_id)+'-Cell'+str(c+1)+'-2020-02-07.csv')\n",
    "    df_if = df_if[df_if['hybID']==8].reset_index(drop=True) # SF3A66 hyb number (rep specific, based on the file in Zenodo)\n",
    "\n",
    "    for i in range(len(df_if)):\n",
    "        a[0,int(df_if['zIdx'][i])-1,int(df_if['yIdx'][i])-1,int(df_if['xIdx'][i])-1] = int(df_if['avgint'][i])\n",
    "    \n",
    "tif.imwrite('output_Prashant/SF3A66_pos'+str(fov_id)+'-replicate2.tif',a, compression='DEFLATE')"
   ]
  }
 ],
 "metadata": {
  "kernelspec": {
   "display_name": "Python 3 (ipykernel)",
   "language": "python",
   "name": "python3"
  },
  "language_info": {
   "codemirror_mode": {
    "name": "ipython",
    "version": 3
   },
   "file_extension": ".py",
   "mimetype": "text/x-python",
   "name": "python",
   "nbconvert_exporter": "python",
   "pygments_lexer": "ipython3",
   "version": "3.7.13"
  }
 },
 "nbformat": 4,
 "nbformat_minor": 1
}
